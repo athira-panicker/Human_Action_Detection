{
 "cells": [
  {
   "cell_type": "code",
   "execution_count": 1,
   "id": "03e24eac-7058-49d1-89a2-f2f59c4aa6dc",
   "metadata": {},
   "outputs": [],
   "source": [
    "#Import"
   ]
  },
  {
   "cell_type": "code",
   "execution_count": 1,
   "id": "8b1c4e0c-1fb6-4349-8713-556185b266fe",
   "metadata": {},
   "outputs": [],
   "source": [
    "import pandas as pd\n",
    "import numpy as np\n",
    "from sklearn.preprocessing import StandardScaler\n",
    "from sklearn.metrics import classification_report, confusion_matrix\n",
    "import matplotlib.pyplot as plt\n",
    "import seaborn as sns"
   ]
  },
  {
   "cell_type": "code",
   "execution_count": 6,
   "id": "ee0fe839-d384-4087-a672-0e429739805c",
   "metadata": {},
   "outputs": [],
   "source": [
    "#Load and Preprocess Data\n",
    "# Reads the 561-feature vectors and labels for training and testing.\n",
    "\n",
    "# Applies label_map to convert numeric labels (1–6) into human-readable activity names.\n",
    "\n",
    "# Scales the feature vectors using StandardScaler to normalize data (mean=0, std=1)."
   ]
  },
  {
   "cell_type": "code",
   "execution_count": 8,
   "id": "a972d656-eb8b-41f1-9ade-8afd8e45c65b",
   "metadata": {},
   "outputs": [],
   "source": [
    "# Load data\n",
    "X_train = pd.read_csv('train/X_train_data.txt', sep='\\s+', header=None)\n",
    "y_train = pd.read_csv('train/y_train_data.txt', header=None)\n",
    "X_test = pd.read_csv('test/X_test_data.txt', sep='\\s+', header=None)\n",
    "y_test = pd.read_csv('test/y_test_data.txt', header=None)\n",
    "\n",
    "# Map numeric labels to activity names\n",
    "label_map = {\n",
    "    1: \"Walking\", 2: \"Walking_Upstairs\", 3: \"Walking_Downstairs\",\n",
    "    4: \"Sitting\", 5: \"Standing\", 6: \"Laying\"\n",
    "}\n",
    "y_train = y_train[0].map(label_map)\n",
    "y_test = y_test[0].map(label_map)\n",
    "\n",
    "# Normalize\n",
    "scaler = StandardScaler()\n",
    "X_train_scaled = scaler.fit_transform(X_train)\n",
    "X_test_scaled = scaler.transform(X_test)\n"
   ]
  },
  {
   "cell_type": "code",
   "execution_count": null,
   "id": "b49a88dc-6b6f-4f25-843b-0f4418e8c1db",
   "metadata": {},
   "outputs": [],
   "source": []
  }
 ],
 "metadata": {
  "kernelspec": {
   "display_name": "Python 3 (ipykernel)",
   "language": "python",
   "name": "python3"
  },
  "language_info": {
   "codemirror_mode": {
    "name": "ipython",
    "version": 3
   },
   "file_extension": ".py",
   "mimetype": "text/x-python",
   "name": "python",
   "nbconvert_exporter": "python",
   "pygments_lexer": "ipython3",
   "version": "3.11.9"
  }
 },
 "nbformat": 4,
 "nbformat_minor": 5
}
